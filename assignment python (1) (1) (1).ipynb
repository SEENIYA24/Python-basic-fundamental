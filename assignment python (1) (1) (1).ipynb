{
 "cells": [
  {
   "cell_type": "code",
   "execution_count": null,
   "id": "4019144c-8371-4a51-81af-f7114f87aac9",
   "metadata": {},
   "outputs": [],
   "source": [
    "#1.Write Python code that prints your name,student number and email address."
   ]
  },
  {
   "cell_type": "code",
   "execution_count": 9,
   "id": "89d27132-17d1-457a-b1a0-19b2bb893af1",
   "metadata": {},
   "outputs": [],
   "source": [
    "name=\"seeniya george\"\n",
    "Student_No=\"28\"\n",
    "Email_address=\"1234@gamil.com\""
   ]
  },
  {
   "cell_type": "code",
   "execution_count": 11,
   "id": "c1e08a98-cd37-41c9-a92b-8c052a8132ba",
   "metadata": {},
   "outputs": [
    {
     "name": "stdout",
     "output_type": "stream",
     "text": [
      "seeniya george\n",
      "28\n",
      "1234@gamil.com\n"
     ]
    }
   ],
   "source": [
    "print (name)\n",
    "print(Student_No)\n",
    "print(Email_address)"
   ]
  },
  {
   "cell_type": "code",
   "execution_count": 13,
   "id": "daceb15e-85e2-4f7b-a0d8-32c78f209353",
   "metadata": {},
   "outputs": [
    {
     "data": {
      "text/plain": [
       "{'email_address:1234@gmail.com', 'name:seeniya', 'student_no:28'}"
      ]
     },
     "execution_count": 13,
     "metadata": {},
     "output_type": "execute_result"
    }
   ],
   "source": [
    "d1={\"name:seeniya\",\"student_no:28\",\"email_address:1234@gmail.com\"}\n",
    "d1"
   ]
  },
  {
   "cell_type": "code",
   "execution_count": null,
   "id": "2f4accf2-f84b-4aaf-8f21-74a28b4b1de7",
   "metadata": {},
   "outputs": [],
   "source": [
    "# 2.Write python code prints your name,student number and email address using escape sequences"
   ]
  },
  {
   "cell_type": "code",
   "execution_count": 15,
   "id": "886bcf24-c131-48a4-8a2a-f3dadc08ba01",
   "metadata": {},
   "outputs": [],
   "source": [
    "name=\"Seeniya George\"\n",
    "Student_Number=\"28\"\n",
    "email_address=\"1234@gmail.com\""
   ]
  },
  {
   "cell_type": "code",
   "execution_count": 17,
   "id": "c0a5ec52-3595-4351-a9bd-4a448624c78b",
   "metadata": {},
   "outputs": [
    {
     "name": "stdout",
     "output_type": "stream",
     "text": [
      "Seeniya George\n",
      "28\n",
      "1234@gmail.com\n"
     ]
    }
   ],
   "source": [
    "print(\"Seeniya George\")\n",
    "print(\"28\")\n",
    "print(\"1234@gmail.com\")"
   ]
  },
  {
   "cell_type": "code",
   "execution_count": null,
   "id": "5fdbbeea-d1e5-49c7-989d-1ba6c69e96ab",
   "metadata": {},
   "outputs": [],
   "source": [
    "# 3.Write python code that add,substract,multiply and divide the two numbers.you can use the two numbers 14 and 7."
   ]
  },
  {
   "cell_type": "code",
   "execution_count": 19,
   "id": "0d67cca7-c10a-41bc-8ff8-0e325ef70533",
   "metadata": {},
   "outputs": [],
   "source": [
    "\n",
    "a=14\n",
    "b=7\n",
    "c=a+b\n",
    "d=a-b\n",
    "e=a/b\n",
    "f=a*b"
   ]
  },
  {
   "cell_type": "code",
   "execution_count": 21,
   "id": "044426c4-9a2a-4f26-b0df-cf20b223d8f0",
   "metadata": {},
   "outputs": [
    {
     "name": "stdout",
     "output_type": "stream",
     "text": [
      "14 7 21 7 2.0 98\n"
     ]
    }
   ],
   "source": [
    "print(a,b,c,d,e,f)"
   ]
  },
  {
   "cell_type": "code",
   "execution_count": 23,
   "id": "32f8ec8f-36ae-422d-a504-00a220b189c6",
   "metadata": {},
   "outputs": [
    {
     "name": "stdout",
     "output_type": "stream",
     "text": [
      "21\n",
      "7\n",
      "98\n",
      "2.0\n"
     ]
    }
   ],
   "source": [
    "print(a+b)\n",
    "print(a-b)\n",
    "print(a*b)\n",
    "print(a/b)"
   ]
  },
  {
   "cell_type": "code",
   "execution_count": null,
   "id": "9bf2b40e-9f6a-4456-8648-18aae63e22dc",
   "metadata": {},
   "outputs": [],
   "source": [
    "#4.write python code that displays the numbers from 1 to 5 as steps."
   ]
  },
  {
   "cell_type": "code",
   "execution_count": 7,
   "id": "8a4f4e52-7927-4e9b-934a-5f4491c72b49",
   "metadata": {},
   "outputs": [
    {
     "name": "stdout",
     "output_type": "stream",
     "text": [
      "1\n",
      "2\n",
      "3\n",
      "4\n",
      "5\n"
     ]
    }
   ],
   "source": [
    "\n",
    "count=1\n",
    "while count<6:\n",
    "    print(count)\n",
    "    count+=1"
   ]
  },
  {
   "cell_type": "code",
   "execution_count": null,
   "id": "3eedef63-354a-4546-94a6-18b5cc2eee7f",
   "metadata": {},
   "outputs": [],
   "source": [
    "#5.Write python code that outputs the following sentence(including the quotation marks and line break)to the screen:"
   ]
  },
  {
   "cell_type": "code",
   "execution_count": 5,
   "id": "f25d05c7-4afb-46e5-b2f7-14225c7499d8",
   "metadata": {},
   "outputs": [
    {
     "name": "stdout",
     "output_type": "stream",
     "text": [
      "\"SDK\"stands for \"Software Development Kit\", whereas\n",
      "\"IDE\" stands for \"Integrated Development Environment\".\n"
     ]
    }
   ],
   "source": [
    "print(\"\\\"SDK\\\"stands for \\\"Software Development Kit\\\", whereas\\n\\\"IDE\\\" stands for \\\"Integrated Development Environment\\\".\")"
   ]
  },
  {
   "cell_type": "code",
   "execution_count": null,
   "id": "eba97b27-201f-49b1-8879-04eb42e32384",
   "metadata": {},
   "outputs": [],
   "source": [
    "# 6.practice and check the output"
   ]
  },
  {
   "cell_type": "code",
   "execution_count": 25,
   "id": "e6b509ea-1641-40c6-990c-901aba4efb73",
   "metadata": {},
   "outputs": [
    {
     "name": "stdout",
     "output_type": "stream",
     "text": [
      "python is an\"awesome\"language.\n",
      "python\n",
      "\t2023\n",
      "l'm from Entri\n",
      "5\n",
      "e\n",
      "Entri\n",
      "2023\n",
      "entr2023\n",
      "Entri*20"
     ]
    }
   ],
   "source": [
    "print(\"python is an\\\"awesome\\\"language.\")\n",
    "print(\"python\\n\\t2023\")\n",
    "print('l\\'m from Entri.\\b')\n",
    "print(\"\\65\")\n",
    "print(\"\\x65\")\n",
    "print(\"Entri\",\"2023\",sep=\"\\n\")\n",
    "print(\"entri\",\"2023\",sep=\"\\b\")\n",
    "print(\"Entri\",\"2023\",sep=\"*\",end=\"\\b\\b\\b\\b\")\n",
    "      "
   ]
  },
  {
   "cell_type": "code",
   "execution_count": null,
   "id": "2230325e-c6db-4a42-b2a3-55081a15b46f",
   "metadata": {},
   "outputs": [],
   "source": [
    "# 7.Define the vaariables below.print the type of each varible.what is the sum of your variables?9Hint:use a type conversion function,) what datatype is the sum?"
   ]
  },
  {
   "cell_type": "code",
   "execution_count": 27,
   "id": "b9879d67-8cde-46ba-bfc8-cd2b2e1099be",
   "metadata": {},
   "outputs": [
    {
     "name": "stdout",
     "output_type": "stream",
     "text": [
      "Type of num:<class 'int'>\n",
      "Type of textnum:<class 'str'>\n",
      "Type of Decimal:<class 'float'>\n",
      "sum:178.3\n",
      "type of sum:<class 'float'>\n"
     ]
    }
   ],
   "source": [
    "num = 23\n",
    "textnum = \"57\"\n",
    "decimal = 98.3\n",
    "\n",
    "print(f\"Type of num:{type(num)}\")\n",
    "print(f\"Type of textnum:{type(textnum)}\")\n",
    "print(f\"Type of Decimal:{type(decimal)}\")\n",
    "\n",
    "#convert textnum to int for sum\n",
    "sum = num + int(textnum) + decimal\n",
    "print(f\"sum:{sum}\")\n",
    "print(f\"type of sum:{type(sum)}\")"
   ]
  },
  {
   "cell_type": "code",
   "execution_count": null,
   "id": "ff170de0-d33e-43ea-b84e-c84049ef540c",
   "metadata": {},
   "outputs": [],
   "source": [
    "#8.calculate the number of minutes in a year using varibles for each unit of time,printstatement that describes what your code does also.create three varibles to store no of days in a year,minute in a hour,hours in a day,then calculate the total minutes in a year and print the values(hint)total numbers of minutes in an year= No.of days in an year*hours in a day* minutes in an hour"
   ]
  },
  {
   "cell_type": "code",
   "execution_count": 29,
   "id": "147955c3-0afe-45d0-8630-b1c1e6997833",
   "metadata": {},
   "outputs": [
    {
     "name": "stdout",
     "output_type": "stream",
     "text": [
      "Calculating total minutes in a year...\n",
      "total minutes in a year:525600\n"
     ]
    }
   ],
   "source": [
    "#calculate minutes in a year\n",
    "\n",
    "days_in_year = 365\n",
    "hours_in_day = 24\n",
    "minutes_in_hour =60\n",
    "\n",
    "total_minutes = days_in_year * hours_in_day * minutes_in_hour\n",
    "print(f\"Calculating total minutes in a year...\")\n",
    "print(f\"total minutes in a year:{total_minutes}\")\n"
   ]
  },
  {
   "cell_type": "code",
   "execution_count": null,
   "id": "c439d050-02a3-4066-acef-4844b2a84e1e",
   "metadata": {},
   "outputs": [],
   "source": []
  },
  {
   "cell_type": "code",
   "execution_count": 31,
   "id": "5e51c4ef-583d-4772-94f7-307b8718083c",
   "metadata": {},
   "outputs": [
    {
     "ename": "SyntaxError",
     "evalue": "invalid syntax (4124086447.py, line 2)",
     "output_type": "error",
     "traceback": [
      "\u001b[1;36m  Cell \u001b[1;32mIn[31], line 2\u001b[1;36m\u001b[0m\n\u001b[1;33m    An example runs of the program:\u001b[0m\n\u001b[1;37m       ^\u001b[0m\n\u001b[1;31mSyntaxError\u001b[0m\u001b[1;31m:\u001b[0m invalid syntax\n"
     ]
    }
   ],
   "source": [
    "# 9.Write Python code that asks the user to enter his/her name and then output/print his/her name with a greeting\n",
    "An example runs of the program:\n",
    "please enter your name:tony\n",
    "Hi tony,welcome to python programming:"
   ]
  },
  {
   "cell_type": "code",
   "execution_count": 33,
   "id": "0cb23b38-7154-43d9-b234-d466a3256916",
   "metadata": {},
   "outputs": [
    {
     "name": "stdout",
     "output_type": "stream",
     "text": [
      "Hello seeniya ,Welcome to python programming!\n"
     ]
    }
   ],
   "source": [
    "def greet(name):\n",
    "    return f\"Hello {name}!\"\n",
    "print(greet(\"seeniya ,Welcome to python programming\"))"
   ]
  },
  {
   "cell_type": "code",
   "execution_count": null,
   "id": "96d83d46-8f82-4179-b3be-7de0b952a2b6",
   "metadata": {},
   "outputs": [],
   "source": [
    "# 10.name your file :pounts to Dollers.py\n",
    "write a program that asks the user to enter an amount in pounts and the program calculates and converts an amount on doller($)\n",
    "An example runs of the program:\n",
    "please enter amount in pounts:xxx\n"
   ]
  },
  {
   "cell_type": "code",
   "execution_count": 3,
   "id": "48a90194-4c98-445f-8905-4b917080b2bd",
   "metadata": {},
   "outputs": [
    {
     "name": "stdin",
     "output_type": "stream",
     "text": [
      "please enter amount in dollars: 100\n"
     ]
    },
    {
     "name": "stdout",
     "output_type": "stream",
     "text": [
      "100.0 dollars is equal to 75.0 pounds.\n"
     ]
    }
   ],
   "source": [
    "# conversion rate from dollars to pounts(example)\n",
    "conversion_rate = 0.75 # dollar = 0.75 pounds\n",
    "# input from users\n",
    "dollars = float(input(\"please enter amount in dollars:\"))\n",
    "# check if the amount is valid\n",
    "if dollars <0:\n",
    "    print(\"please enter a non-negative amount.\")\n",
    "else:\n",
    "    # convert dollars to pounts\n",
    "    pounds= dollars * conversion_rate\n",
    "    print(f\"{dollars} dollars is equal to {pounds} pounds.\")\n"
   ]
  },
  {
   "cell_type": "code",
   "execution_count": null,
   "id": "220c97b3-8d06-44f8-886c-d56c0dcfa907",
   "metadata": {},
   "outputs": [],
   "source": []
  }
 ],
 "metadata": {
  "kernelspec": {
   "display_name": "Python 3 (ipykernel)",
   "language": "python",
   "name": "python3"
  },
  "language_info": {
   "codemirror_mode": {
    "name": "ipython",
    "version": 3
   },
   "file_extension": ".py",
   "mimetype": "text/x-python",
   "name": "python",
   "nbconvert_exporter": "python",
   "pygments_lexer": "ipython3",
   "version": "3.12.4"
  }
 },
 "nbformat": 4,
 "nbformat_minor": 5
}
